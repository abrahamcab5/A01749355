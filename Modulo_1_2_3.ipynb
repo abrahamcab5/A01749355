{
  "nbformat": 4,
  "nbformat_minor": 0,
  "metadata": {
    "colab": {
      "provenance": [],
      "collapsed_sections": [],
      "authorship_tag": "ABX9TyPONgZmKc6p+oXQdVWEpi4t",
      "include_colab_link": true
    },
    "kernelspec": {
      "name": "python3",
      "display_name": "Python 3"
    },
    "language_info": {
      "name": "python"
    }
  },
  "cells": [
    {
      "cell_type": "markdown",
      "metadata": {
        "id": "view-in-github",
        "colab_type": "text"
      },
      "source": [
        "<a href=\"https://colab.research.google.com/github/abrahamcab5/A01749355/blob/main/Modulo_1_2_3.ipynb\" target=\"_parent\"><img src=\"https://colab.research.google.com/assets/colab-badge.svg\" alt=\"Open In Colab\"/></a>"
      ]
    },
    {
      "cell_type": "markdown",
      "source": [
        "**Abraham Cabanzo Jiménez  - 01794355** \\\n",
        "**Semana 1 - Actividad 2: Python for Data Science (IBM)**\n",
        "\n",
        "Módulo 1"
      ],
      "metadata": {
        "id": "WE-0cfI5D5WR"
      }
    },
    {
      "cell_type": "code",
      "execution_count": 1,
      "metadata": {
        "colab": {
          "base_uri": "https://localhost:8080/"
        },
        "id": "lqdLCuCADpBB",
        "outputId": "ee258cb6-e75a-4c4d-9f93-91b030ceaf99"
      },
      "outputs": [
        {
          "output_type": "stream",
          "name": "stdout",
          "text": [
            "Hello\n",
            "World!\n"
          ]
        }
      ],
      "source": [
        "print(\"Hello\\nWorld!\")\n"
      ]
    },
    {
      "cell_type": "code",
      "source": [
        "# print('Hello World!') Para escribir comentarios"
      ],
      "metadata": {
        "id": "Q3NvXUDREONw"
      },
      "execution_count": 2,
      "outputs": []
    },
    {
      "cell_type": "code",
      "source": [
        "# Para conocer el tipo de dato de un valor\n",
        "type(2)"
      ],
      "metadata": {
        "colab": {
          "base_uri": "https://localhost:8080/"
        },
        "id": "mqGaNvG4Ebvw",
        "outputId": "aa730376-3cba-4846-e853-19ae9c8c489c"
      },
      "execution_count": 3,
      "outputs": [
        {
          "output_type": "execute_result",
          "data": {
            "text/plain": [
              "int"
            ]
          },
          "metadata": {},
          "execution_count": 3
        }
      ]
    },
    {
      "cell_type": "code",
      "source": [
        "type(\"Hola\")"
      ],
      "metadata": {
        "colab": {
          "base_uri": "https://localhost:8080/"
        },
        "id": "HzjcA_XIEb39",
        "outputId": "5a6b80f3-ffd6-49f2-c408-928faa68321e"
      },
      "execution_count": 4,
      "outputs": [
        {
          "output_type": "execute_result",
          "data": {
            "text/plain": [
              "str"
            ]
          },
          "metadata": {},
          "execution_count": 4
        }
      ]
    },
    {
      "cell_type": "code",
      "source": [
        "type(2.2)"
      ],
      "metadata": {
        "colab": {
          "base_uri": "https://localhost:8080/"
        },
        "id": "08EF7cKIEcI6",
        "outputId": "f98c3e80-b842-4ddf-e6ee-bf9d1d30474e"
      },
      "execution_count": 5,
      "outputs": [
        {
          "output_type": "execute_result",
          "data": {
            "text/plain": [
              "float"
            ]
          },
          "metadata": {},
          "execution_count": 5
        }
      ]
    },
    {
      "cell_type": "code",
      "source": [
        "# Para convertir un campo a flotante\n",
        "float(5)\n"
      ],
      "metadata": {
        "colab": {
          "base_uri": "https://localhost:8080/"
        },
        "id": "mQjKe1AsFFLM",
        "outputId": "91be8042-14c2-4827-d7e2-92544a03cc30"
      },
      "execution_count": 6,
      "outputs": [
        {
          "output_type": "execute_result",
          "data": {
            "text/plain": [
              "5.0"
            ]
          },
          "metadata": {},
          "execution_count": 6
        }
      ]
    },
    {
      "cell_type": "code",
      "source": [
        "str(56)"
      ],
      "metadata": {
        "colab": {
          "base_uri": "https://localhost:8080/",
          "height": 35
        },
        "id": "SIznmlHyFNBf",
        "outputId": "4035b56b-f418-4de9-e440-b27c3ea7eab9"
      },
      "execution_count": 7,
      "outputs": [
        {
          "output_type": "execute_result",
          "data": {
            "text/plain": [
              "'56'"
            ],
            "application/vnd.google.colaboratory.intrinsic+json": {
              "type": "string"
            }
          },
          "metadata": {},
          "execution_count": 7
        }
      ]
    },
    {
      "cell_type": "code",
      "source": [
        "# int(True) = 1 "
      ],
      "metadata": {
        "id": "_zqMQopZFNQp"
      },
      "execution_count": 8,
      "outputs": []
    },
    {
      "cell_type": "code",
      "source": [
        "bool(1) # Para convertir 1 a boleano"
      ],
      "metadata": {
        "colab": {
          "base_uri": "https://localhost:8080/"
        },
        "id": "S8tNejncFNWM",
        "outputId": "ab366147-c32e-4384-97f7-56079f49d3f7"
      },
      "execution_count": 9,
      "outputs": [
        {
          "output_type": "execute_result",
          "data": {
            "text/plain": [
              "True"
            ]
          },
          "metadata": {},
          "execution_count": 9
        }
      ]
    },
    {
      "cell_type": "code",
      "source": [
        "print(bool(int(\"1\")))"
      ],
      "metadata": {
        "colab": {
          "base_uri": "https://localhost:8080/"
        },
        "id": "-mj_JnmNFNaz",
        "outputId": "ff47e85b-2bc5-47de-f2bb-2b68c3ee137b"
      },
      "execution_count": 10,
      "outputs": [
        {
          "output_type": "stream",
          "name": "stdout",
          "text": [
            "True\n"
          ]
        }
      ]
    },
    {
      "cell_type": "code",
      "source": [
        "# Expresions and Variables"
      ],
      "metadata": {
        "id": "dpPhUdU1FNhz"
      },
      "execution_count": null,
      "outputs": []
    },
    {
      "cell_type": "code",
      "source": [
        "50-60"
      ],
      "metadata": {
        "colab": {
          "base_uri": "https://localhost:8080/"
        },
        "id": "kJ3HKJtiGXt4",
        "outputId": "9e783c54-a47b-4062-b25c-1699ebebe7c9"
      },
      "execution_count": null,
      "outputs": [
        {
          "output_type": "execute_result",
          "data": {
            "text/plain": [
              "-10"
            ]
          },
          "metadata": {},
          "execution_count": 13
        }
      ]
    },
    {
      "cell_type": "code",
      "source": [
        "27/2365"
      ],
      "metadata": {
        "colab": {
          "base_uri": "https://localhost:8080/"
        },
        "id": "6PsCbIYrGXyU",
        "outputId": "0bf08de9-0d37-4b65-fdd4-6d32120e8391"
      },
      "execution_count": null,
      "outputs": [
        {
          "output_type": "execute_result",
          "data": {
            "text/plain": [
              "0.011416490486257928"
            ]
          },
          "metadata": {},
          "execution_count": 14
        }
      ]
    },
    {
      "cell_type": "code",
      "source": [
        "30+9*5-2.88*(1/584)"
      ],
      "metadata": {
        "colab": {
          "base_uri": "https://localhost:8080/"
        },
        "id": "l2ZcFv9EGX3b",
        "outputId": "8e1cc9f2-b65b-40b3-c75f-62cdb87a0c33"
      },
      "execution_count": null,
      "outputs": [
        {
          "output_type": "execute_result",
          "data": {
            "text/plain": [
              "74.99506849315068"
            ]
          },
          "metadata": {},
          "execution_count": 15
        }
      ]
    },
    {
      "cell_type": "code",
      "source": [
        "# Asignación de variables\n",
        "Variable_1 = 10 \n",
        "Variable_2 = 3.1416\n",
        "print(Variable_1*Variable_2)"
      ],
      "metadata": {
        "colab": {
          "base_uri": "https://localhost:8080/"
        },
        "id": "0om1jpE0GX--",
        "outputId": "800f8d1f-ed2e-4550-c4c5-6b3b56003638"
      },
      "execution_count": null,
      "outputs": [
        {
          "output_type": "stream",
          "name": "stdout",
          "text": [
            "31.416\n"
          ]
        }
      ]
    },
    {
      "cell_type": "code",
      "source": [
        "# String Operations\n",
        "Name = 'Abraham Cabanzo'\n",
        "# El primer elemento se enumera con 0"
      ],
      "metadata": {
        "id": "GmJu9qSiH9Th"
      },
      "execution_count": null,
      "outputs": []
    },
    {
      "cell_type": "code",
      "source": [
        "Name[6]"
      ],
      "metadata": {
        "colab": {
          "base_uri": "https://localhost:8080/",
          "height": 35
        },
        "id": "bpGRWYlAH9gN",
        "outputId": "af80b7a7-46e0-484d-954f-cde6f9af3586"
      },
      "execution_count": null,
      "outputs": [
        {
          "output_type": "execute_result",
          "data": {
            "text/plain": [
              "'m'"
            ],
            "application/vnd.google.colaboratory.intrinsic+json": {
              "type": "string"
            }
          },
          "metadata": {},
          "execution_count": 21
        }
      ]
    },
    {
      "cell_type": "code",
      "source": [
        "Name[-1]"
      ],
      "metadata": {
        "colab": {
          "base_uri": "https://localhost:8080/",
          "height": 35
        },
        "id": "LtrZ7r6dH9mG",
        "outputId": "194eab09-d38c-4f6e-de21-e268dd46b047"
      },
      "execution_count": null,
      "outputs": [
        {
          "output_type": "execute_result",
          "data": {
            "text/plain": [
              "'o'"
            ],
            "application/vnd.google.colaboratory.intrinsic+json": {
              "type": "string"
            }
          },
          "metadata": {},
          "execution_count": 22
        }
      ]
    },
    {
      "cell_type": "code",
      "source": [
        "Name[0:7] # A partir de la posición 0 toma 7 "
      ],
      "metadata": {
        "colab": {
          "base_uri": "https://localhost:8080/",
          "height": 35
        },
        "id": "4PLEHqNKH9tV",
        "outputId": "2d599398-4af4-4b52-af03-8b96d2472216"
      },
      "execution_count": null,
      "outputs": [
        {
          "output_type": "execute_result",
          "data": {
            "text/plain": [
              "'Abraham'"
            ],
            "application/vnd.google.colaboratory.intrinsic+json": {
              "type": "string"
            }
          },
          "metadata": {},
          "execution_count": 25
        }
      ]
    },
    {
      "cell_type": "code",
      "source": [
        "Name[::2] # Cada 2 elementos"
      ],
      "metadata": {
        "colab": {
          "base_uri": "https://localhost:8080/",
          "height": 35
        },
        "id": "nNFfoJmIJlWV",
        "outputId": "f2187b00-8624-48e9-e447-3a615db2ec9b"
      },
      "execution_count": null,
      "outputs": [
        {
          "output_type": "execute_result",
          "data": {
            "text/plain": [
              "'ArhmCbno'"
            ],
            "application/vnd.google.colaboratory.intrinsic+json": {
              "type": "string"
            }
          },
          "metadata": {},
          "execution_count": 26
        }
      ]
    },
    {
      "cell_type": "code",
      "source": [
        "Name[0:3:2]"
      ],
      "metadata": {
        "colab": {
          "base_uri": "https://localhost:8080/",
          "height": 35
        },
        "id": "7RoVCMClJlbQ",
        "outputId": "4acefc5a-7a02-4797-f3cb-4394cb90709e"
      },
      "execution_count": null,
      "outputs": [
        {
          "output_type": "execute_result",
          "data": {
            "text/plain": [
              "'Ar'"
            ],
            "application/vnd.google.colaboratory.intrinsic+json": {
              "type": "string"
            }
          },
          "metadata": {},
          "execution_count": 27
        }
      ]
    },
    {
      "cell_type": "code",
      "source": [
        "#Concatenar\n",
        "\n",
        "Full_name = Name + \"Jimenez\"\n",
        "Full_name\n"
      ],
      "metadata": {
        "colab": {
          "base_uri": "https://localhost:8080/",
          "height": 35
        },
        "id": "_sExgNlwJlfa",
        "outputId": "83f2e58c-d2d9-47ed-cf7e-985aeebe32b9"
      },
      "execution_count": null,
      "outputs": [
        {
          "output_type": "execute_result",
          "data": {
            "text/plain": [
              "'Abraham CabanzoJimenez'"
            ],
            "application/vnd.google.colaboratory.intrinsic+json": {
              "type": "string"
            }
          },
          "metadata": {},
          "execution_count": 29
        }
      ]
    },
    {
      "cell_type": "code",
      "source": [
        "3*Name"
      ],
      "metadata": {
        "colab": {
          "base_uri": "https://localhost:8080/",
          "height": 35
        },
        "id": "o34nSx5lKfei",
        "outputId": "a70eaddb-aee3-4234-a9bc-50d7bddd56f2"
      },
      "execution_count": null,
      "outputs": [
        {
          "output_type": "execute_result",
          "data": {
            "text/plain": [
              "'Abraham CabanzoAbraham CabanzoAbraham Cabanzo'"
            ],
            "application/vnd.google.colaboratory.intrinsic+json": {
              "type": "string"
            }
          },
          "metadata": {},
          "execution_count": 30
        }
      ]
    },
    {
      "cell_type": "code",
      "source": [
        "# Para ejecutar un espacio\n",
        "print(\"Abraham\\nCabanzo\") "
      ],
      "metadata": {
        "colab": {
          "base_uri": "https://localhost:8080/"
        },
        "id": "66VPQOhWKfin",
        "outputId": "46712c15-8575-4e11-c0b7-b370cdf836c5"
      },
      "execution_count": null,
      "outputs": [
        {
          "output_type": "stream",
          "name": "stdout",
          "text": [
            "Abraham\n",
            "Cabanzo\n"
          ]
        }
      ]
    },
    {
      "cell_type": "code",
      "source": [
        "# Para tabulador\n",
        "print(\"Abraham\\tCabanzo\") "
      ],
      "metadata": {
        "colab": {
          "base_uri": "https://localhost:8080/"
        },
        "id": "REpDf55mKrwT",
        "outputId": "b623e3ee-cd22-4501-b087-643615aebe6b"
      },
      "execution_count": null,
      "outputs": [
        {
          "output_type": "stream",
          "name": "stdout",
          "text": [
            "Abraham\tCabanzo\n"
          ]
        }
      ]
    },
    {
      "cell_type": "code",
      "source": [
        "print(r\"Abraham Cabanzo \\ the best\")"
      ],
      "metadata": {
        "colab": {
          "base_uri": "https://localhost:8080/"
        },
        "id": "Ns2lcRUQKr40",
        "outputId": "e9c57a4f-aad7-43da-9de6-157bf527fe34"
      },
      "execution_count": null,
      "outputs": [
        {
          "output_type": "stream",
          "name": "stdout",
          "text": [
            "Abraham Cabanzo \\ the best\n"
          ]
        }
      ]
    },
    {
      "cell_type": "code",
      "source": [
        "Nombre_Mayusculas = Name.upper()\n",
        "Nombre_Mayusculas"
      ],
      "metadata": {
        "colab": {
          "base_uri": "https://localhost:8080/",
          "height": 35
        },
        "id": "pUirqgPkKr8V",
        "outputId": "44032ee6-ace3-4d0e-d8c6-ae0ac1e87803"
      },
      "execution_count": null,
      "outputs": [
        {
          "output_type": "execute_result",
          "data": {
            "text/plain": [
              "'ABRAHAM CABANZO'"
            ],
            "application/vnd.google.colaboratory.intrinsic+json": {
              "type": "string"
            }
          },
          "metadata": {},
          "execution_count": 35
        }
      ]
    },
    {
      "cell_type": "code",
      "source": [
        "# Remplazar texto\n",
        "Nombre_Apellido_Mat = Name.replace('Cabanzo','Jimenez')\n",
        "Nombre_Apellido_Mat"
      ],
      "metadata": {
        "colab": {
          "base_uri": "https://localhost:8080/",
          "height": 35
        },
        "id": "dqYyVuRyJli3",
        "outputId": "e6de811c-c6f8-4f13-ca01-806f39f9d1c7"
      },
      "execution_count": null,
      "outputs": [
        {
          "output_type": "execute_result",
          "data": {
            "text/plain": [
              "'Abraham Jimenez'"
            ],
            "application/vnd.google.colaboratory.intrinsic+json": {
              "type": "string"
            }
          },
          "metadata": {},
          "execution_count": 37
        }
      ]
    },
    {
      "cell_type": "code",
      "source": [
        "# Buscar la posición de una letra\n",
        "Name.find('C')"
      ],
      "metadata": {
        "colab": {
          "base_uri": "https://localhost:8080/"
        },
        "id": "YAkTB3IKLsIU",
        "outputId": "adae9c37-7b6f-4693-c85a-269d6c068207"
      },
      "execution_count": null,
      "outputs": [
        {
          "output_type": "execute_result",
          "data": {
            "text/plain": [
              "8"
            ]
          },
          "metadata": {},
          "execution_count": 38
        }
      ]
    },
    {
      "cell_type": "code",
      "source": [
        "#Si no encuentra el valor arroja -1\n",
        "Name.find('K')"
      ],
      "metadata": {
        "colab": {
          "base_uri": "https://localhost:8080/"
        },
        "id": "_KkzkrEKLtFw",
        "outputId": "fabfbde3-dfa3-4509-b376-3a860dbf7633"
      },
      "execution_count": null,
      "outputs": [
        {
          "output_type": "execute_result",
          "data": {
            "text/plain": [
              "-1"
            ]
          },
          "metadata": {},
          "execution_count": 40
        }
      ]
    },
    {
      "cell_type": "code",
      "source": [
        "Numbers = \"0123456\"\n",
        "Numbers[::2]"
      ],
      "metadata": {
        "colab": {
          "base_uri": "https://localhost:8080/",
          "height": 35
        },
        "id": "EgayrYaALtIm",
        "outputId": "86cfa0c4-ec4d-4e67-d1f5-89f008b860f0"
      },
      "execution_count": null,
      "outputs": [
        {
          "output_type": "execute_result",
          "data": {
            "text/plain": [
              "'0246'"
            ],
            "application/vnd.google.colaboratory.intrinsic+json": {
              "type": "string"
            }
          },
          "metadata": {},
          "execution_count": 41
        }
      ]
    },
    {
      "cell_type": "code",
      "source": [
        "lz = 'Lizz'\n",
        "print(lz[0:2])"
      ],
      "metadata": {
        "colab": {
          "base_uri": "https://localhost:8080/"
        },
        "id": "Vo78CQ35MXc4",
        "outputId": "3494beff-fc36-470f-eaec-1ee0b7dc3cb5"
      },
      "execution_count": null,
      "outputs": [
        {
          "output_type": "stream",
          "name": "stdout",
          "text": [
            "Li\n"
          ]
        }
      ]
    },
    {
      "cell_type": "markdown",
      "source": [
        "Módulo 2 : Listas y Tuplas"
      ],
      "metadata": {
        "id": "xQfi0ZA7y1K8"
      }
    },
    {
      "cell_type": "code",
      "source": [
        "#Tupla\n",
        "Dias_quincena = (1,2,3,4,5,6,7,8,9,10,11,12,13,14,15)"
      ],
      "metadata": {
        "id": "_61lX3dXMXgY"
      },
      "execution_count": null,
      "outputs": []
    },
    {
      "cell_type": "code",
      "source": [
        "# Pueden tener diferentes tipos\n",
        "Tupla_variada = ('Hola',1,3.4)\n",
        "type(Tupla_variada[2])\n"
      ],
      "metadata": {
        "colab": {
          "base_uri": "https://localhost:8080/"
        },
        "id": "zGr6VIinMXj4",
        "outputId": "46db5e14-8577-4ba0-fb12-f3d4cecb7b7c"
      },
      "execution_count": null,
      "outputs": [
        {
          "output_type": "execute_result",
          "data": {
            "text/plain": [
              "float"
            ]
          },
          "metadata": {},
          "execution_count": 2
        }
      ]
    },
    {
      "cell_type": "code",
      "source": [
        "# Se pueden seleccionar del último elemento al primero\n",
        "type(int(Tupla_variada[-1]))"
      ],
      "metadata": {
        "colab": {
          "base_uri": "https://localhost:8080/"
        },
        "id": "Px3QQHExLsUB",
        "outputId": "67aa7cf9-e349-4786-d7bc-1bc78dbfee4d"
      },
      "execution_count": null,
      "outputs": [
        {
          "output_type": "execute_result",
          "data": {
            "text/plain": [
              "int"
            ]
          },
          "metadata": {},
          "execution_count": 3
        }
      ]
    },
    {
      "cell_type": "code",
      "source": [
        "# Es posible concatenar tuplas\n",
        "Tupla_variada_2 = Tupla_variada + (\"elemento 1\",2,3.1416)\n",
        "Tupla_variada_2"
      ],
      "metadata": {
        "colab": {
          "base_uri": "https://localhost:8080/"
        },
        "id": "FIjzIEGO0JWd",
        "outputId": "5f594c9d-eea3-40a3-ea26-06a2541c59c0"
      },
      "execution_count": null,
      "outputs": [
        {
          "output_type": "execute_result",
          "data": {
            "text/plain": [
              "('Hola', 1, 3.4, 'elemento 1', 2, 3.1416)"
            ]
          },
          "metadata": {},
          "execution_count": 4
        }
      ]
    },
    {
      "cell_type": "code",
      "source": [
        "# Seleccionar los primeros 3 elementos\n",
        "Tupla_variada_2[0:2]"
      ],
      "metadata": {
        "colab": {
          "base_uri": "https://localhost:8080/"
        },
        "id": "qQSjDL_G0Jdg",
        "outputId": "e4515e5e-d661-4e5a-e6c9-fd78cc436c2e"
      },
      "execution_count": null,
      "outputs": [
        {
          "output_type": "execute_result",
          "data": {
            "text/plain": [
              "('Hola', 1)"
            ]
          },
          "metadata": {},
          "execution_count": 5
        }
      ]
    },
    {
      "cell_type": "code",
      "source": [
        "# Seleccionar elementos intermedios\n",
        "Tupla_variada_2 [3:5] # Empieza en posición 3 y termina en en el 5t0 elemento"
      ],
      "metadata": {
        "colab": {
          "base_uri": "https://localhost:8080/"
        },
        "id": "x7dDygCD0Jgk",
        "outputId": "964eb4b7-2ff8-48d1-af3e-1d7ae03724f2"
      },
      "execution_count": null,
      "outputs": [
        {
          "output_type": "execute_result",
          "data": {
            "text/plain": [
              "('elemento 1', 2)"
            ]
          },
          "metadata": {},
          "execution_count": 8
        }
      ]
    },
    {
      "cell_type": "code",
      "source": [
        "# Tamaño de la tupla\n",
        "len(Tupla_variada_2)"
      ],
      "metadata": {
        "colab": {
          "base_uri": "https://localhost:8080/"
        },
        "id": "jjw7qnR10Jjt",
        "outputId": "e0067b21-3795-4d38-e4b6-c098e7a04ff7"
      },
      "execution_count": null,
      "outputs": [
        {
          "output_type": "execute_result",
          "data": {
            "text/plain": [
              "6"
            ]
          },
          "metadata": {},
          "execution_count": 10
        }
      ]
    },
    {
      "cell_type": "code",
      "source": [
        "Tupla_ordenada = sorted(Dias_quincena, reverse = True) # reverse = True es descendente    \n",
        "Tupla_ordenada"
      ],
      "metadata": {
        "colab": {
          "base_uri": "https://localhost:8080/"
        },
        "id": "7Dr9eeO21-qm",
        "outputId": "ab90e4ae-15f0-4c5c-95fd-db33d66ff735"
      },
      "execution_count": null,
      "outputs": [
        {
          "output_type": "execute_result",
          "data": {
            "text/plain": [
              "[15, 14, 13, 12, 11, 10, 9, 8, 7, 6, 5, 4, 3, 2, 1]"
            ]
          },
          "metadata": {},
          "execution_count": 15
        }
      ]
    },
    {
      "cell_type": "code",
      "source": [
        "Anidado = (Tupla_variada, Tupla_ordenada)\n",
        "Anidado"
      ],
      "metadata": {
        "colab": {
          "base_uri": "https://localhost:8080/"
        },
        "id": "8QBahBSD1-ww",
        "outputId": "be0b35aa-d1af-434d-9e13-0bda24236e81"
      },
      "execution_count": null,
      "outputs": [
        {
          "output_type": "execute_result",
          "data": {
            "text/plain": [
              "(('Hola', 1, 3.4), [15, 14, 13, 12, 11, 10, 9, 8, 7, 6, 5, 4, 3, 2, 1])"
            ]
          },
          "metadata": {},
          "execution_count": 16
        }
      ]
    },
    {
      "cell_type": "code",
      "source": [
        "Anidado = (Tupla_variada, Dias_quincena)\n",
        "Anidado"
      ],
      "metadata": {
        "colab": {
          "base_uri": "https://localhost:8080/"
        },
        "id": "NpokDTYc1-0N",
        "outputId": "b673d1c8-e78c-468d-d3b9-040ca88d6c1a"
      },
      "execution_count": null,
      "outputs": [
        {
          "output_type": "execute_result",
          "data": {
            "text/plain": [
              "(('Hola', 1, 3.4), (1, 2, 3, 4, 5, 6, 7, 8, 9, 10, 11, 12, 13, 14, 15))"
            ]
          },
          "metadata": {},
          "execution_count": 17
        }
      ]
    },
    {
      "cell_type": "code",
      "source": [
        "Anidado[0]"
      ],
      "metadata": {
        "colab": {
          "base_uri": "https://localhost:8080/"
        },
        "id": "rbV4OMbQ1-3v",
        "outputId": "a48dcd1f-be81-4d1c-9997-2f79728557e9"
      },
      "execution_count": null,
      "outputs": [
        {
          "output_type": "execute_result",
          "data": {
            "text/plain": [
              "('Hola', 1, 3.4)"
            ]
          },
          "metadata": {},
          "execution_count": 20
        }
      ]
    },
    {
      "cell_type": "code",
      "source": [
        "# Seleccionar elmento dentro de una tupla anidada\n",
        "Anidado[0][2]"
      ],
      "metadata": {
        "colab": {
          "base_uri": "https://localhost:8080/"
        },
        "id": "1gKclGiM1-7V",
        "outputId": "51db9667-e461-4793-ae4c-8522bf399850"
      },
      "execution_count": null,
      "outputs": [
        {
          "output_type": "execute_result",
          "data": {
            "text/plain": [
              "3.4"
            ]
          },
          "metadata": {},
          "execution_count": 21
        }
      ]
    },
    {
      "cell_type": "code",
      "source": [
        "# Listas\n",
        "Lista = ['ABC','3.14', 7 , 5.8 ]\n",
        "Lista"
      ],
      "metadata": {
        "colab": {
          "base_uri": "https://localhost:8080/"
        },
        "id": "9I9IZwbM4Nck",
        "outputId": "34a74d84-5458-4ea8-fb8b-461b1a17bb8c"
      },
      "execution_count": null,
      "outputs": [
        {
          "output_type": "execute_result",
          "data": {
            "text/plain": [
              "['ABC', '3.14', 7, 5.8]"
            ]
          },
          "metadata": {},
          "execution_count": 22
        }
      ]
    },
    {
      "cell_type": "code",
      "source": [
        "Lista[-1]"
      ],
      "metadata": {
        "colab": {
          "base_uri": "https://localhost:8080/"
        },
        "id": "LK8GYXSe4NoA",
        "outputId": "831b907d-3cd8-4957-cd3c-94b46874bfae"
      },
      "execution_count": null,
      "outputs": [
        {
          "output_type": "execute_result",
          "data": {
            "text/plain": [
              "5.8"
            ]
          },
          "metadata": {},
          "execution_count": 23
        }
      ]
    },
    {
      "cell_type": "code",
      "source": [
        "Lista[2:4]"
      ],
      "metadata": {
        "colab": {
          "base_uri": "https://localhost:8080/"
        },
        "id": "civLEOHk4NsA",
        "outputId": "c08b934c-669d-48cd-944d-f6c9443113b4"
      },
      "execution_count": null,
      "outputs": [
        {
          "output_type": "execute_result",
          "data": {
            "text/plain": [
              "[7, 5.8]"
            ]
          },
          "metadata": {},
          "execution_count": 25
        }
      ]
    },
    {
      "cell_type": "code",
      "source": [
        "Lista.extend([\"Aqui van elemtentos adicionales\", 8])\n",
        "Lista"
      ],
      "metadata": {
        "colab": {
          "base_uri": "https://localhost:8080/"
        },
        "id": "LxAVmQE04tav",
        "outputId": "3a05cf8d-cd2b-4cac-fc31-691758a81b7d"
      },
      "execution_count": null,
      "outputs": [
        {
          "output_type": "execute_result",
          "data": {
            "text/plain": [
              "['ABC', '3.14', 7, 5.8, 'Aqui van elemtentos adicionales', 8]"
            ]
          },
          "metadata": {},
          "execution_count": 26
        }
      ]
    },
    {
      "cell_type": "code",
      "source": [
        "# Para anidar una lista\n",
        "Lista.append([\"Nueva_lista\",\"adicional\"])\n",
        "Lista"
      ],
      "metadata": {
        "colab": {
          "base_uri": "https://localhost:8080/"
        },
        "id": "JHGbSPHw4tdu",
        "outputId": "f9475578-6e21-4b1a-fc11-0cb0af521ef6"
      },
      "execution_count": null,
      "outputs": [
        {
          "output_type": "execute_result",
          "data": {
            "text/plain": [
              "['ABC',\n",
              " '3.14',\n",
              " 7,\n",
              " 5.8,\n",
              " 'Aqui van elemtentos adicionales',\n",
              " 8,\n",
              " ['Nueva_lista', 'adicional'],\n",
              " ['Nueva_lista', 'adicional']]"
            ]
          },
          "metadata": {},
          "execution_count": 28
        }
      ]
    },
    {
      "cell_type": "code",
      "source": [
        "# Cambiar elemento de una lista\n",
        "Lista[7] = [\"Elemento cambiado\"]\n",
        "Lista"
      ],
      "metadata": {
        "colab": {
          "base_uri": "https://localhost:8080/"
        },
        "id": "S8WMRrv44tgv",
        "outputId": "f225044a-6aed-496a-a2a4-d9dc8c02dbf2"
      },
      "execution_count": null,
      "outputs": [
        {
          "output_type": "execute_result",
          "data": {
            "text/plain": [
              "['ABC',\n",
              " '3.14',\n",
              " 7,\n",
              " 5.8,\n",
              " 'Aqui van elemtentos adicionales',\n",
              " 8,\n",
              " ['Nueva_lista', 'adicional'],\n",
              " ['Elemento cambiado']]"
            ]
          },
          "metadata": {},
          "execution_count": 29
        }
      ]
    },
    {
      "cell_type": "code",
      "source": [
        "Lista[6] = 'Cambiar lista a unidad'\n",
        "Lista"
      ],
      "metadata": {
        "colab": {
          "base_uri": "https://localhost:8080/"
        },
        "id": "6Hz18ckR4tjm",
        "outputId": "67265456-a950-49f1-9ee6-0f243b7cb115"
      },
      "execution_count": null,
      "outputs": [
        {
          "output_type": "execute_result",
          "data": {
            "text/plain": [
              "['ABC',\n",
              " '3.14',\n",
              " 7,\n",
              " 5.8,\n",
              " 'Aqui van elemtentos adicionales',\n",
              " 8,\n",
              " 'Cambiar lista a unidad',\n",
              " ['Elemento cambiado']]"
            ]
          },
          "metadata": {},
          "execution_count": 30
        }
      ]
    },
    {
      "cell_type": "code",
      "source": [
        "# Eliminar un elmento\n",
        "del(Lista[0])\n",
        "Lista"
      ],
      "metadata": {
        "colab": {
          "base_uri": "https://localhost:8080/"
        },
        "id": "T1O9_PQe4tmz",
        "outputId": "d56e2575-2a14-44a0-8052-d6d858f1069b"
      },
      "execution_count": null,
      "outputs": [
        {
          "output_type": "execute_result",
          "data": {
            "text/plain": [
              "['3.14',\n",
              " 7,\n",
              " 5.8,\n",
              " 'Aqui van elemtentos adicionales',\n",
              " 8,\n",
              " 'Cambiar lista a unidad',\n",
              " ['Elemento cambiado']]"
            ]
          },
          "metadata": {},
          "execution_count": 31
        }
      ]
    },
    {
      "cell_type": "code",
      "source": [
        "# Para separa un texto\n",
        "Lista[5].split(\" \")"
      ],
      "metadata": {
        "colab": {
          "base_uri": "https://localhost:8080/"
        },
        "id": "WvN6Dki94tp5",
        "outputId": "1caa9e23-2b84-4b2a-f7a4-15ca24419f92"
      },
      "execution_count": null,
      "outputs": [
        {
          "output_type": "execute_result",
          "data": {
            "text/plain": [
              "['Cambiar', 'lista', 'a', 'unidad']"
            ]
          },
          "metadata": {},
          "execution_count": 37
        }
      ]
    },
    {
      "cell_type": "code",
      "source": [
        "Lista"
      ],
      "metadata": {
        "colab": {
          "base_uri": "https://localhost:8080/"
        },
        "id": "_SLKlVM64tsV",
        "outputId": "93f34c98-ea51-4f95-cf9f-289c6ba661cb"
      },
      "execution_count": null,
      "outputs": [
        {
          "output_type": "execute_result",
          "data": {
            "text/plain": [
              "['3.14',\n",
              " 7,\n",
              " 5.8,\n",
              " 'Aqui van elemtentos adicionales',\n",
              " 8,\n",
              " 'Cambiar lista a unidad',\n",
              " ['Elemento cambiado']]"
            ]
          },
          "metadata": {},
          "execution_count": 38
        }
      ]
    },
    {
      "cell_type": "code",
      "source": [
        "Lista[1:]"
      ],
      "metadata": {
        "colab": {
          "base_uri": "https://localhost:8080/"
        },
        "id": "UWGTgiF84Nvq",
        "outputId": "24adb17a-7267-40e7-ffe2-42e9b24a4733"
      },
      "execution_count": null,
      "outputs": [
        {
          "output_type": "execute_result",
          "data": {
            "text/plain": [
              "[7,\n",
              " 5.8,\n",
              " 'Aqui van elemtentos adicionales',\n",
              " 8,\n",
              " 'Cambiar lista a unidad',\n",
              " ['Elemento cambiado']]"
            ]
          },
          "metadata": {},
          "execution_count": 39
        }
      ]
    },
    {
      "cell_type": "code",
      "source": [
        "# Sets"
      ],
      "metadata": {
        "id": "C4fTEXAJ4N0D"
      },
      "execution_count": 11,
      "outputs": []
    },
    {
      "cell_type": "code",
      "source": [
        "set1 = {'ABC','DEF'}"
      ],
      "metadata": {
        "id": "GXSQJ_2lp3n3"
      },
      "execution_count": 12,
      "outputs": []
    },
    {
      "cell_type": "code",
      "source": [
        "# Es posible convertir una lista en un set"
      ],
      "metadata": {
        "id": "E1TBxbj8p3rQ"
      },
      "execution_count": 13,
      "outputs": []
    },
    {
      "cell_type": "code",
      "source": [
        "lista = ['ABC','ABC',1,1,2.8]\n",
        "lista"
      ],
      "metadata": {
        "colab": {
          "base_uri": "https://localhost:8080/"
        },
        "id": "9LBWb7vZp3up",
        "outputId": "2024358e-5299-4a35-86ad-fd73be6d830c"
      },
      "execution_count": 15,
      "outputs": [
        {
          "output_type": "execute_result",
          "data": {
            "text/plain": [
              "['ABC', 'ABC', 1, 1, 2.8]"
            ]
          },
          "metadata": {},
          "execution_count": 15
        }
      ]
    },
    {
      "cell_type": "code",
      "source": [
        "set_lista = set(lista) #Elimina duplicados\n",
        "set_lista"
      ],
      "metadata": {
        "colab": {
          "base_uri": "https://localhost:8080/"
        },
        "id": "lacEdVFd9gM5",
        "outputId": "3ae47471-cce0-4131-9d54-56914978a35c"
      },
      "execution_count": 17,
      "outputs": [
        {
          "output_type": "execute_result",
          "data": {
            "text/plain": [
              "{1, 2.8, 'ABC'}"
            ]
          },
          "metadata": {},
          "execution_count": 17
        }
      ]
    },
    {
      "cell_type": "code",
      "source": [
        "set_lista.add(\"Nuevo_Valor\") # Para agregar un nuevo elemento\n",
        "set_lista"
      ],
      "metadata": {
        "colab": {
          "base_uri": "https://localhost:8080/"
        },
        "id": "Ug2AvhLX9gQR",
        "outputId": "50923497-24c8-401c-aa9d-ece826eaaf77"
      },
      "execution_count": 18,
      "outputs": [
        {
          "output_type": "execute_result",
          "data": {
            "text/plain": [
              "{1, 2.8, 'ABC', 'Nuevo_Valor'}"
            ]
          },
          "metadata": {},
          "execution_count": 18
        }
      ]
    },
    {
      "cell_type": "code",
      "source": [
        "set_lista.remove('ABC')\n",
        "set_lista"
      ],
      "metadata": {
        "colab": {
          "base_uri": "https://localhost:8080/"
        },
        "id": "wWdlcNERp3xn",
        "outputId": "0cbeff7d-1076-4833-d4c1-01600089feb7"
      },
      "execution_count": 20,
      "outputs": [
        {
          "output_type": "execute_result",
          "data": {
            "text/plain": [
              "{1, 2.8, 'Nuevo_Valor'}"
            ]
          },
          "metadata": {},
          "execution_count": 20
        }
      ]
    },
    {
      "cell_type": "code",
      "source": [
        "2.8 in set_lista"
      ],
      "metadata": {
        "colab": {
          "base_uri": "https://localhost:8080/"
        },
        "id": "jNjcRfoTp309",
        "outputId": "5d5c0c87-f706-45ce-f16d-90eebcdd8d67"
      },
      "execution_count": 21,
      "outputs": [
        {
          "output_type": "execute_result",
          "data": {
            "text/plain": [
              "True"
            ]
          },
          "metadata": {},
          "execution_count": 21
        }
      ]
    },
    {
      "cell_type": "code",
      "source": [
        "set_lista2 = {1,'Otro_Set'}\n",
        "set_lista & set_lista2   # Intersección de sets"
      ],
      "metadata": {
        "colab": {
          "base_uri": "https://localhost:8080/"
        },
        "id": "utof1iawp34C",
        "outputId": "e98eadb1-26dc-462a-f004-b99aa21377eb"
      },
      "execution_count": 22,
      "outputs": [
        {
          "output_type": "execute_result",
          "data": {
            "text/plain": [
              "{1}"
            ]
          },
          "metadata": {},
          "execution_count": 22
        }
      ]
    },
    {
      "cell_type": "code",
      "source": [
        "set_lista.union(set_lista2)   # Unión de sets"
      ],
      "metadata": {
        "colab": {
          "base_uri": "https://localhost:8080/"
        },
        "id": "GWteWtM3p380",
        "outputId": "16017c0a-ae6f-4cde-86c0-07cad318006a"
      },
      "execution_count": 23,
      "outputs": [
        {
          "output_type": "execute_result",
          "data": {
            "text/plain": [
              "{1, 2.8, 'Nuevo_Valor', 'Otro_Set'}"
            ]
          },
          "metadata": {},
          "execution_count": 23
        }
      ]
    },
    {
      "cell_type": "code",
      "source": [
        "set_lista2.issubset(set_lista)"
      ],
      "metadata": {
        "colab": {
          "base_uri": "https://localhost:8080/"
        },
        "id": "XKJV-UOQ_P7g",
        "outputId": "292d9519-7bbc-4771-ac3f-81c2a9e043d5"
      },
      "execution_count": 25,
      "outputs": [
        {
          "output_type": "execute_result",
          "data": {
            "text/plain": [
              "False"
            ]
          },
          "metadata": {},
          "execution_count": 25
        }
      ]
    },
    {
      "cell_type": "code",
      "source": [
        "#Diccionarios\n",
        "#Los diccionarios tienen valores asociados a una llave\n",
        "#Para crearlos son necesarias las llaves (\"{\",\"}\")\n",
        "Mi_dic = {\"0001\":7,\"00020\":54,\"0003\":63}\n",
        "Mi_dic"
      ],
      "metadata": {
        "colab": {
          "base_uri": "https://localhost:8080/"
        },
        "id": "sVkExQcl_P_I",
        "outputId": "4596d74e-294e-4f61-f4a3-06944e877d76"
      },
      "execution_count": 26,
      "outputs": [
        {
          "output_type": "execute_result",
          "data": {
            "text/plain": [
              "{'0001': 7, '00020': 54, '0003': 63}"
            ]
          },
          "metadata": {},
          "execution_count": 26
        }
      ]
    },
    {
      "cell_type": "code",
      "source": [
        "Mi_dic[\"0003\"]"
      ],
      "metadata": {
        "colab": {
          "base_uri": "https://localhost:8080/"
        },
        "id": "TmHv9QTp_QCB",
        "outputId": "26e2e2ce-6406-47e2-e374-cd53c3a6921c"
      },
      "execution_count": 28,
      "outputs": [
        {
          "output_type": "execute_result",
          "data": {
            "text/plain": [
              "63"
            ]
          },
          "metadata": {},
          "execution_count": 28
        }
      ]
    },
    {
      "cell_type": "code",
      "source": [
        "Mi_dic['004'] = 4  # Para agregar nuevo elemento al diccionario\n",
        "Mi_dic"
      ],
      "metadata": {
        "colab": {
          "base_uri": "https://localhost:8080/"
        },
        "id": "OuUr9OdBDL7d",
        "outputId": "50122c08-d7b2-47da-a6ec-be4d18df140e"
      },
      "execution_count": 30,
      "outputs": [
        {
          "output_type": "execute_result",
          "data": {
            "text/plain": [
              "{'0001': 7, '00020': 54, '0003': 63, '004': 4}"
            ]
          },
          "metadata": {},
          "execution_count": 30
        }
      ]
    },
    {
      "cell_type": "code",
      "source": [
        "del(Mi_dic['0001'])\n",
        "Mi_dic"
      ],
      "metadata": {
        "colab": {
          "base_uri": "https://localhost:8080/"
        },
        "id": "Muw3huvADL_o",
        "outputId": "4f64b90f-5b23-4fa3-f08d-2cf0a48b5b69"
      },
      "execution_count": 31,
      "outputs": [
        {
          "output_type": "execute_result",
          "data": {
            "text/plain": [
              "{'00020': 54, '0003': 63, '004': 4}"
            ]
          },
          "metadata": {},
          "execution_count": 31
        }
      ]
    },
    {
      "cell_type": "code",
      "source": [
        "'0001' in Mi_dic # Para buscar un elemento en el diccionario"
      ],
      "metadata": {
        "colab": {
          "base_uri": "https://localhost:8080/"
        },
        "id": "kDx9hXS0DMEb",
        "outputId": "1a1d5093-30a3-4660-bb4e-f0182e98db2a"
      },
      "execution_count": 32,
      "outputs": [
        {
          "output_type": "execute_result",
          "data": {
            "text/plain": [
              "False"
            ]
          },
          "metadata": {},
          "execution_count": 32
        }
      ]
    },
    {
      "cell_type": "markdown",
      "source": [
        "Módulo 3"
      ],
      "metadata": {
        "id": "G2HIDvwUFaTI"
      }
    },
    {
      "cell_type": "code",
      "source": [
        "#Condiciones y ramificaciones\n",
        "\n",
        "a = 5 #Para asignar un valor\n",
        "a == 3 # Para comparar"
      ],
      "metadata": {
        "colab": {
          "base_uri": "https://localhost:8080/"
        },
        "id": "chl8Az2hDkHp",
        "outputId": "aec9f7fe-3c81-48ae-daaa-47258caeb961"
      },
      "execution_count": 33,
      "outputs": [
        {
          "output_type": "execute_result",
          "data": {
            "text/plain": [
              "False"
            ]
          },
          "metadata": {},
          "execution_count": 33
        }
      ]
    },
    {
      "cell_type": "code",
      "source": [
        "a<2  #El valor de a es 5"
      ],
      "metadata": {
        "colab": {
          "base_uri": "https://localhost:8080/"
        },
        "id": "BWqQ7CyxDkKP",
        "outputId": "47442bdc-55d9-4cf4-fc64-828ffbef05f2"
      },
      "execution_count": 34,
      "outputs": [
        {
          "output_type": "execute_result",
          "data": {
            "text/plain": [
              "False"
            ]
          },
          "metadata": {},
          "execution_count": 34
        }
      ]
    },
    {
      "cell_type": "code",
      "source": [
        "a>=4"
      ],
      "metadata": {
        "colab": {
          "base_uri": "https://localhost:8080/"
        },
        "id": "lZ9Nj3DX_QE5",
        "outputId": "46f17e67-8458-4c25-bfac-4753f41e03fe"
      },
      "execution_count": 35,
      "outputs": [
        {
          "output_type": "execute_result",
          "data": {
            "text/plain": [
              "True"
            ]
          },
          "metadata": {},
          "execution_count": 35
        }
      ]
    },
    {
      "cell_type": "code",
      "source": [
        "'A' == 'B'"
      ],
      "metadata": {
        "colab": {
          "base_uri": "https://localhost:8080/"
        },
        "id": "KiYjfBox_QHm",
        "outputId": "448e0381-99a2-49f0-8652-efc9a5e38260"
      },
      "execution_count": 37,
      "outputs": [
        {
          "output_type": "execute_result",
          "data": {
            "text/plain": [
              "False"
            ]
          },
          "metadata": {},
          "execution_count": 37
        }
      ]
    },
    {
      "cell_type": "code",
      "source": [
        "edad = 14\n",
        "if (edad>=18):\n",
        "  print(\"Puedes votar\")\n",
        "print('Espera un poco más')"
      ],
      "metadata": {
        "colab": {
          "base_uri": "https://localhost:8080/"
        },
        "id": "oUodRp71_QKW",
        "outputId": "42a724ae-d8eb-4594-cbe8-e19ccffbc189"
      },
      "execution_count": 39,
      "outputs": [
        {
          "output_type": "stream",
          "name": "stdout",
          "text": [
            "Espera un poco más\n"
          ]
        }
      ]
    },
    {
      "cell_type": "code",
      "source": [
        "edad = 18\n",
        "if (edad>17):\n",
        "  print(\"Ya puedes votar\")\n",
        "elif(edad==18):\n",
        "  print(\"Tu primera votación\")\n",
        "else:\n",
        "  print(\"Todavía te falta\")\n",
        "\n",
        "print(\"probar\")\n"
      ],
      "metadata": {
        "colab": {
          "base_uri": "https://localhost:8080/"
        },
        "id": "Q1Sr0aKnGZHe",
        "outputId": "83c10f0f-829a-4764-d0e2-86411683f227"
      },
      "execution_count": 44,
      "outputs": [
        {
          "output_type": "stream",
          "name": "stdout",
          "text": [
            "Ya puedes votar\n",
            "probar\n"
          ]
        }
      ]
    },
    {
      "cell_type": "code",
      "source": [
        "#Operadores lógicos OR / And \n",
        "\n",
        "edad = 14\n",
        "\n",
        "if edad<12 and edad>21:\n",
        "  print(\"Ya no eres adolescente\")\n",
        "else:\n",
        "  print(\"Eres un adolescente\")\n",
        "\n"
      ],
      "metadata": {
        "colab": {
          "base_uri": "https://localhost:8080/"
        },
        "id": "eTjY8PUHGZLh",
        "outputId": "f22d375d-cc17-4672-cfe7-c49e6f45cfc5"
      },
      "execution_count": 45,
      "outputs": [
        {
          "output_type": "stream",
          "name": "stdout",
          "text": [
            "Eres un adolescente\n"
          ]
        }
      ]
    },
    {
      "cell_type": "code",
      "source": [
        "# Loops"
      ],
      "metadata": {
        "id": "eLe7n1BaJDPD"
      },
      "execution_count": 1,
      "outputs": []
    },
    {
      "cell_type": "code",
      "source": [
        "#range(1,n+1)\n",
        "# range(10,12) implica [10,11]\n"
      ],
      "metadata": {
        "id": "pLOI5EVsJDgC"
      },
      "execution_count": 3,
      "outputs": []
    },
    {
      "cell_type": "code",
      "source": [
        "# Ciclo For\n",
        "colores = ['azul','verde','morado','café','amarillo']\n",
        "\n",
        "for i in range(0,4):\n",
        "  colores[i] = 'Cambio'\n",
        "\n",
        "print(colores)\n",
        "\n"
      ],
      "metadata": {
        "colab": {
          "base_uri": "https://localhost:8080/"
        },
        "id": "lG2D7eUFpDyo",
        "outputId": "33799852-9bea-47ed-fb07-9a593d8e813e"
      },
      "execution_count": 7,
      "outputs": [
        {
          "output_type": "stream",
          "name": "stdout",
          "text": [
            "['Cambio', 'Cambio', 'Cambio', 'Cambio', 'amarillo']\n"
          ]
        }
      ]
    },
    {
      "cell_type": "code",
      "source": [
        "colores = ['azul','verde','morado','café','amarillo']\n",
        "\n",
        "for i, colores in enumerate(colores):\n",
        "  colores[i]\n",
        "  print(colores)\n",
        "\n",
        "print(colores)  # El último valor"
      ],
      "metadata": {
        "colab": {
          "base_uri": "https://localhost:8080/"
        },
        "id": "orbdO4Yqp8RR",
        "outputId": "36886ce9-6382-48f8-c71e-3874cb75748f"
      },
      "execution_count": 3,
      "outputs": [
        {
          "output_type": "stream",
          "name": "stdout",
          "text": [
            "azul\n",
            "verde\n",
            "morado\n",
            "café\n",
            "amarillo\n",
            "amarillo\n"
          ]
        }
      ]
    },
    {
      "cell_type": "code",
      "source": [
        "# Ciclo While\n",
        "\n",
        "colores = ['azul','verde','morado','café','amarillo']\n",
        "\n",
        "colores2=[]\n",
        "i=0\n",
        "while colores[i]!='morado':\n",
        "  colores2.append(colores[i]) # Se llena el nuevo arreglo mientras \n",
        "                              # el color sea distinto a morado\n",
        "  i=i+1\n",
        "print(colores2)\n",
        "\n",
        "\n"
      ],
      "metadata": {
        "colab": {
          "base_uri": "https://localhost:8080/"
        },
        "id": "C2hjbbvlp8W7",
        "outputId": "8cb4d75a-a555-42d7-9559-ad2ec44aa683"
      },
      "execution_count": 19,
      "outputs": [
        {
          "output_type": "stream",
          "name": "stdout",
          "text": [
            "['azul', 'verde']\n"
          ]
        }
      ]
    },
    {
      "cell_type": "code",
      "source": [
        "# Funciones\n",
        "# Se necesita variables de entrada y devuelve un cálculo"
      ],
      "metadata": {
        "id": "rUR6CXd2pD2p"
      },
      "execution_count": 1,
      "outputs": []
    },
    {
      "cell_type": "code",
      "source": [
        "len(colores) # Devuelve la longitud del objeto"
      ],
      "metadata": {
        "colab": {
          "base_uri": "https://localhost:8080/"
        },
        "id": "8LMLf48qcnfn",
        "outputId": "9d0ec5d1-6622-489e-dfbd-a4b0360633fa"
      },
      "execution_count": 4,
      "outputs": [
        {
          "output_type": "execute_result",
          "data": {
            "text/plain": [
              "8"
            ]
          },
          "metadata": {},
          "execution_count": 4
        }
      ]
    },
    {
      "cell_type": "code",
      "source": [
        "# Es posible operar todos los valores de una lista\n",
        "lista = [1,2,3,4,5,6,7,8,9,10]\n",
        "sum(lista)\n"
      ],
      "metadata": {
        "colab": {
          "base_uri": "https://localhost:8080/"
        },
        "id": "UpnbxSlpcns5",
        "outputId": "eb246cae-c786-45ca-e8df-e890d917effa"
      },
      "execution_count": 45,
      "outputs": [
        {
          "output_type": "execute_result",
          "data": {
            "text/plain": [
              "55"
            ]
          },
          "metadata": {},
          "execution_count": 45
        }
      ]
    },
    {
      "cell_type": "code",
      "source": [
        "# Sorted vs Sort\n",
        "#Sorted devuelve una nueva lista (o tupla) ordenada\n",
        "lista_=sorted(lista, reverse = True) # True = Desc\n",
        "lista_"
      ],
      "metadata": {
        "colab": {
          "base_uri": "https://localhost:8080/"
        },
        "id": "tN-GqM9zpD6t",
        "outputId": "496abe7d-fd82-46d8-c25e-ad83cbc4db98"
      },
      "execution_count": 46,
      "outputs": [
        {
          "output_type": "execute_result",
          "data": {
            "text/plain": [
              "[10, 9, 8, 7, 6, 5, 4, 3, 2, 1]"
            ]
          },
          "metadata": {},
          "execution_count": 46
        }
      ]
    },
    {
      "cell_type": "code",
      "source": [
        "lista.sort(reverse=True)\n",
        "lista"
      ],
      "metadata": {
        "colab": {
          "base_uri": "https://localhost:8080/"
        },
        "id": "B1bTdHZcieNj",
        "outputId": "eca99841-7d49-4ad1-9556-4342da1bc2d1"
      },
      "execution_count": 47,
      "outputs": [
        {
          "output_type": "execute_result",
          "data": {
            "text/plain": [
              "[10, 9, 8, 7, 6, 5, 4, 3, 2, 1]"
            ]
          },
          "metadata": {},
          "execution_count": 47
        }
      ]
    },
    {
      "cell_type": "code",
      "source": [
        "lista.reverse() # Esta es otra forma\n",
        "lista"
      ],
      "metadata": {
        "colab": {
          "base_uri": "https://localhost:8080/"
        },
        "id": "I3lYQxYG8AFi",
        "outputId": "5edaa3f8-fc07-4d99-d974-d95a63e3df3c"
      },
      "execution_count": 48,
      "outputs": [
        {
          "output_type": "execute_result",
          "data": {
            "text/plain": [
              "[1, 2, 3, 4, 5, 6, 7, 8, 9, 10]"
            ]
          },
          "metadata": {},
          "execution_count": 48
        }
      ]
    },
    {
      "cell_type": "code",
      "source": [
        "# Ordenar por tamaño de cadena\n",
        "\n",
        "cadena = [\"uno\", \"dos\",\"tres\",\"cuatro\",\"cinco\",\"seis\",\"siete\",\"ocho\",\"maaammbo uu\"]\n",
        "cadena.sort(key=len, reverse=True)\n",
        "cadena\n"
      ],
      "metadata": {
        "colab": {
          "base_uri": "https://localhost:8080/"
        },
        "id": "2dEEaSg6ieUs",
        "outputId": "47c998b9-edf1-4b52-e700-c9e6035a811a"
      },
      "execution_count": 13,
      "outputs": [
        {
          "output_type": "execute_result",
          "data": {
            "text/plain": [
              "['maaammbo uu',\n",
              " 'cuatro',\n",
              " 'cinco',\n",
              " 'siete',\n",
              " 'tres',\n",
              " 'seis',\n",
              " 'ocho',\n",
              " 'uno',\n",
              " 'dos']"
            ]
          },
          "metadata": {},
          "execution_count": 13
        }
      ]
    },
    {
      "cell_type": "code",
      "source": [
        "# Suma 1 al número dado\n",
        "def add1(a):\n",
        "  b=a+1\n",
        "  return b"
      ],
      "metadata": {
        "id": "npNL2wiBieYd"
      },
      "execution_count": 14,
      "outputs": []
    },
    {
      "cell_type": "code",
      "source": [
        "add1(5)"
      ],
      "metadata": {
        "colab": {
          "base_uri": "https://localhost:8080/"
        },
        "id": "Y58B65L4j_RL",
        "outputId": "fb9dae44-1d90-4e62-f6de-c68a43867c7c"
      },
      "execution_count": 16,
      "outputs": [
        {
          "output_type": "execute_result",
          "data": {
            "text/plain": [
              "6"
            ]
          },
          "metadata": {},
          "execution_count": 16
        }
      ]
    },
    {
      "cell_type": "code",
      "source": [
        "# Es posible saber qué hace una función\n",
        "help(add1)"
      ],
      "metadata": {
        "colab": {
          "base_uri": "https://localhost:8080/"
        },
        "id": "EYlC9H0OkEHg",
        "outputId": "883e065f-5fcd-42ec-d8ac-6a331063a293"
      },
      "execution_count": 17,
      "outputs": [
        {
          "output_type": "stream",
          "name": "stdout",
          "text": [
            "Help on function add1 in module __main__:\n",
            "\n",
            "add1(a)\n",
            "    # Suma 1 al número dado\n",
            "\n"
          ]
        }
      ]
    },
    {
      "cell_type": "code",
      "source": [
        "# Tabla de multiplicación\n",
        "# a : tabla de multiplicar\n",
        "# b : hasta qué numero queremos la tabla\n",
        "\n",
        "def tabla_mul(a,b):\n",
        "  for i in list(range(1,b)):\n",
        "    print(str(a) + ' x ' + str(i) + ' = ' + str(i*a))\n",
        "\n",
        "tabla_mul(10,7)\n"
      ],
      "metadata": {
        "colab": {
          "base_uri": "https://localhost:8080/"
        },
        "id": "BFdNDuAlkELa",
        "outputId": "d10cd902-f19e-4239-83b7-56f53ab56f1a"
      },
      "execution_count": 34,
      "outputs": [
        {
          "output_type": "stream",
          "name": "stdout",
          "text": [
            "10 x 1 = 10\n",
            "10 x 2 = 20\n",
            "10 x 3 = 30\n",
            "10 x 4 = 40\n",
            "10 x 5 = 50\n",
            "10 x 6 = 60\n"
          ]
        }
      ]
    },
    {
      "cell_type": "code",
      "source": [
        "# Variables globales\n",
        "def felicitacion():\n",
        "\tprint(fel)\n",
        "\n",
        "fel = '¡Felicidades!' #variable global definida en el cuerpo principal del programa\n",
        "felicitacion()"
      ],
      "metadata": {
        "colab": {
          "base_uri": "https://localhost:8080/"
        },
        "id": "QxRFOQwEkEPN",
        "outputId": "1d8cea51-2b0e-459b-b488-c9e016b08981"
      },
      "execution_count": 38,
      "outputs": [
        {
          "output_type": "stream",
          "name": "stdout",
          "text": [
            "¡Felicidades!\n"
          ]
        }
      ]
    },
    {
      "cell_type": "code",
      "source": [
        "def mult(a, b):\n",
        "\t# a, b y mult son variables locales que corresponden al ámbito local de la función sumar\n",
        "\tmult = a + b\n",
        "\n",
        "\treturn mult"
      ],
      "metadata": {
        "id": "YMFMYZozkESI"
      },
      "execution_count": 39,
      "outputs": []
    },
    {
      "cell_type": "code",
      "source": [
        "def f(*x):\n",
        "  return sum(x)\n",
        "\n",
        "f(5,7,8)"
      ],
      "metadata": {
        "colab": {
          "base_uri": "https://localhost:8080/"
        },
        "id": "_7VIpSuG2B11",
        "outputId": "d5adfc26-ff36-4ff0-aabe-d2d6c2d2da23"
      },
      "execution_count": 42,
      "outputs": [
        {
          "output_type": "execute_result",
          "data": {
            "text/plain": [
              "20"
            ]
          },
          "metadata": {},
          "execution_count": 42
        }
      ]
    },
    {
      "cell_type": "code",
      "source": [
        "# Métodos\n",
        "# Objetos y clases"
      ],
      "metadata": {
        "id": "WZ4tbMNr2B-v"
      },
      "execution_count": null,
      "outputs": []
    },
    {
      "cell_type": "code",
      "source": [
        "# Objetos tienen, un tipo, una representación interna, un set\n",
        "\n",
        "print(type(1.2))\n",
        "\n",
        "print(type([1,3,4]))\n",
        "\n",
        "print(type({'1':1}))\n",
        "\n"
      ],
      "metadata": {
        "colab": {
          "base_uri": "https://localhost:8080/"
        },
        "id": "1fhUkWaB4dCw",
        "outputId": "476de2b1-5e3f-4185-80ec-99ad3f2ace39"
      },
      "execution_count": 43,
      "outputs": [
        {
          "output_type": "stream",
          "name": "stdout",
          "text": [
            "<class 'float'>\n",
            "<class 'list'>\n",
            "<class 'dict'>\n"
          ]
        }
      ]
    },
    {
      "cell_type": "code",
      "source": [
        "# Creeemos un par de clases\n",
        "\n",
        "# Humano \n",
        "# Atributos : brazos, piernas, cabeza, torso, etc.\n",
        "\n",
        "class humano (object):\n",
        "  def __init__(self,brazos,piernas): # Init se usa como constructor inicial\n",
        "    self.brazos =  brazos\n",
        "    self.piernas = piernas\n",
        "\n",
        "hum1 = humano(2,2)\n",
        "hum1\n",
        "dir(hum1)"
      ],
      "metadata": {
        "colab": {
          "base_uri": "https://localhost:8080/"
        },
        "id": "a9Krrq164dIV",
        "outputId": "3a9bac4d-87c2-4dfb-fa50-bba9f295ebb2"
      },
      "execution_count": 52,
      "outputs": [
        {
          "output_type": "execute_result",
          "data": {
            "text/plain": [
              "['__class__',\n",
              " '__delattr__',\n",
              " '__dict__',\n",
              " '__dir__',\n",
              " '__doc__',\n",
              " '__eq__',\n",
              " '__format__',\n",
              " '__ge__',\n",
              " '__getattribute__',\n",
              " '__gt__',\n",
              " '__hash__',\n",
              " '__init__',\n",
              " '__init_subclass__',\n",
              " '__le__',\n",
              " '__lt__',\n",
              " '__module__',\n",
              " '__ne__',\n",
              " '__new__',\n",
              " '__reduce__',\n",
              " '__reduce_ex__',\n",
              " '__repr__',\n",
              " '__setattr__',\n",
              " '__sizeof__',\n",
              " '__str__',\n",
              " '__subclasshook__',\n",
              " '__weakref__',\n",
              " 'brazos',\n",
              " 'piernas']"
            ]
          },
          "metadata": {},
          "execution_count": 52
        }
      ]
    },
    {
      "cell_type": "code",
      "source": [
        "help(\"sell()\")"
      ],
      "metadata": {
        "colab": {
          "base_uri": "https://localhost:8080/"
        },
        "id": "H5rRStt67xPQ",
        "outputId": "06719da9-14f5-4643-8ab7-e53627321351"
      },
      "execution_count": 56,
      "outputs": [
        {
          "output_type": "stream",
          "name": "stdout",
          "text": [
            "No Python documentation found for 'sell()'.\n",
            "Use help() to get the interactive help utility.\n",
            "Use help(str) for help on the str class.\n",
            "\n"
          ]
        }
      ]
    },
    {
      "cell_type": "code",
      "source": [
        "A = ['1','2','3']\n",
        "\n",
        "for a in A:\n",
        "  print(2*a)"
      ],
      "metadata": {
        "colab": {
          "base_uri": "https://localhost:8080/"
        },
        "id": "8ZHNqxMc7xXi",
        "outputId": "b80bf0aa-11da-4f3b-cf06-93a7a7668d20"
      },
      "execution_count": 58,
      "outputs": [
        {
          "output_type": "stream",
          "name": "stdout",
          "text": [
            "11\n",
            "22\n",
            "33\n"
          ]
        }
      ]
    },
    {
      "cell_type": "code",
      "source": [],
      "metadata": {
        "id": "3OJwQqEv7xcj"
      },
      "execution_count": null,
      "outputs": []
    },
    {
      "cell_type": "code",
      "source": [],
      "metadata": {
        "id": "tWnFh9LE2CCj"
      },
      "execution_count": null,
      "outputs": []
    }
  ]
}